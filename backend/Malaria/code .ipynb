{
 "cells": [
  {
   "cell_type": "code",
   "execution_count": 1,
   "id": "1edf2094",
   "metadata": {},
   "outputs": [
    {
     "name": "stdout",
     "output_type": "stream",
     "text": [
      "WARNING:tensorflow:From C:\\Users\\kisha\\AppData\\Roaming\\Python\\Python311\\site-packages\\keras\\src\\losses.py:2976: The name tf.losses.sparse_softmax_cross_entropy is deprecated. Please use tf.compat.v1.losses.sparse_softmax_cross_entropy instead.\n",
      "\n",
      "d:\\KISHAN\\PROGRAMS\\WEB DEVELPOMENT\\Major-project\\backend\\Malaria\n"
     ]
    }
   ],
   "source": [
    "import os\n",
    "import tensorflow as tf\n",
    "print(os.getcwd())\n",
    "image_path = 'C33P1thinF_IMG_20150619_121229a_cell_177.png'"
   ]
  },
  {
   "cell_type": "code",
   "execution_count": 2,
   "id": "c58fbcbe",
   "metadata": {},
   "outputs": [
    {
     "name": "stdout",
     "output_type": "stream",
     "text": [
      "[0.85]\n"
     ]
    }
   ],
   "source": [
    "from RF_Malaria.prediction import single_image\n",
    "result1 = single_image(image_path)\n",
    "print(result1)#wrong output for unseenNormal"
   ]
  },
  {
   "cell_type": "code",
   "execution_count": 3,
   "id": "bfd64b91",
   "metadata": {},
   "outputs": [
    {
     "name": "stdout",
     "output_type": "stream",
     "text": [
      "[0.7838847]\n"
     ]
    }
   ],
   "source": [
    "from XG_Malaria.prediction import predict_single_image\n",
    "result2 = predict_single_image(image_path)\n",
    "print(result2)"
   ]
  },
  {
   "cell_type": "code",
   "execution_count": 4,
   "id": "8985b6eb",
   "metadata": {},
   "outputs": [
    {
     "name": "stdout",
     "output_type": "stream",
     "text": [
      "[81.69423521]\n"
     ]
    }
   ],
   "source": [
    "Predicted_Percentage = (result1+result2)*100/2\n",
    "print(Predicted_Percentage)"
   ]
  },
  {
   "cell_type": "code",
   "execution_count": null,
   "id": "7d003696",
   "metadata": {},
   "outputs": [],
   "source": []
  }
 ],
 "metadata": {
  "kernelspec": {
   "display_name": "Python 3 (ipykernel)",
   "language": "python",
   "name": "python3"
  },
  "language_info": {
   "codemirror_mode": {
    "name": "ipython",
    "version": 3
   },
   "file_extension": ".py",
   "mimetype": "text/x-python",
   "name": "python",
   "nbconvert_exporter": "python",
   "pygments_lexer": "ipython3",
   "version": "3.11.4"
  }
 },
 "nbformat": 4,
 "nbformat_minor": 5
}
