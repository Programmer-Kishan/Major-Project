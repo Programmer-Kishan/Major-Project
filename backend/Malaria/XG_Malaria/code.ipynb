{
 "cells": [
  {
   "cell_type": "code",
   "execution_count": 1,
   "id": "2dbd4568",
   "metadata": {},
   "outputs": [],
   "source": [
    "from sklearn.model_selection import KFold\n",
    "from sklearn.preprocessing import StandardScaler\n",
    "from skimage.feature import graycomatrix,hog\n",
    "scaler = StandardScaler()\n",
    "\n",
    "import xgboost as xgb\n",
    "from sklearn.metrics import accuracy_score\n",
    "import cv2\n",
    "import glob\n",
    "from tqdm import tqdm\n",
    "import time\n",
    "import numpy as np\n",
    "from sklearn.metrics import accuracy_score, precision_score, recall_score, f1_score, roc_auc_score  # For evaluation metrics\n",
    "import joblib"
   ]
  },
  {
   "cell_type": "code",
   "execution_count": 2,
   "id": "a762433b",
   "metadata": {},
   "outputs": [
    {
     "name": "stderr",
     "output_type": "stream",
     "text": [
      "Training Images: 100%|██████████| 22065/22065 [03:09<00:00, 116.70it/s]\n",
      "Validation Images: 100%|██████████| 5517/5517 [01:02<00:00, 88.64it/s] \n"
     ]
    },
    {
     "name": "stdout",
     "output_type": "stream",
     "text": [
      "Accuracy for this fold: 0.5981511691136487\n"
     ]
    },
    {
     "name": "stderr",
     "output_type": "stream",
     "text": [
      "Training Images: 100%|██████████| 22065/22065 [00:36<00:00, 603.38it/s]\n",
      "Validation Images: 100%|██████████| 5517/5517 [00:08<00:00, 631.77it/s]\n"
     ]
    },
    {
     "name": "stdout",
     "output_type": "stream",
     "text": [
      "Accuracy for this fold: 0.6008700380641653\n"
     ]
    },
    {
     "name": "stderr",
     "output_type": "stream",
     "text": [
      "Training Images: 100%|██████████| 22066/22066 [00:36<00:00, 611.05it/s]\n",
      "Validation Images: 100%|██████████| 5516/5516 [00:09<00:00, 596.47it/s]\n"
     ]
    },
    {
     "name": "stdout",
     "output_type": "stream",
     "text": [
      "Accuracy for this fold: 0.5933647570703409\n"
     ]
    },
    {
     "name": "stderr",
     "output_type": "stream",
     "text": [
      "Training Images: 100%|██████████| 22066/22066 [00:36<00:00, 600.01it/s]\n",
      "Validation Images: 100%|██████████| 5516/5516 [00:09<00:00, 576.93it/s]\n"
     ]
    },
    {
     "name": "stdout",
     "output_type": "stream",
     "text": [
      "Accuracy for this fold: 0.5975344452501813\n"
     ]
    },
    {
     "name": "stderr",
     "output_type": "stream",
     "text": [
      "Training Images: 100%|██████████| 22066/22066 [00:36<00:00, 605.99it/s]\n",
      "Validation Images: 100%|██████████| 5516/5516 [00:09<00:00, 599.07it/s]\n"
     ]
    },
    {
     "name": "stdout",
     "output_type": "stream",
     "text": [
      "Accuracy for this fold: 0.5998912255257433\n",
      "Mean accuracy: 0.5979623270048159\n"
     ]
    }
   ],
   "source": [
    "malaria_image_dir = 'Parasitized'\n",
    "non_malaria_image_dir = 'Uninfected'\n",
    "\n",
    "malaria_image_paths = glob.glob(malaria_image_dir + '/*.png')  # Adjust file extension if needed\n",
    "non_malaria_image_paths = glob.glob(non_malaria_image_dir + '/*.png')\n",
    "\n",
    "all_image_paths = malaria_image_paths + non_malaria_image_paths\n",
    "labels = [1] * len(malaria_image_paths) + [0] * len(non_malaria_image_paths)\n",
    "\n",
    "accuracies = []\n",
    "# Perform K-fold cross-validation\n",
    "kf = KFold(n_splits=5, shuffle=True, random_state=None)\n",
    "for train_index, val_index in kf.split(all_image_paths):\n",
    "    X_train_paths, X_val_paths = [all_image_paths[i] for i in train_index], [all_image_paths[i] for i in val_index]\n",
    "    y_train, y_val = [labels[i] for i in train_index], [labels[i] for i in val_index]\n",
    "    \n",
    "    # Load and preprocess training images\n",
    "    X_train = []\n",
    "    for path in tqdm(X_train_paths, desc=\"Training Images\"):\n",
    "        image = cv2.imread(path)  # Load image using OpenCV or any other library\n",
    "        resized_image = cv2.resize(image, (118, 118))\n",
    "        # (224, 224) is a common size for pre-trained models and feature extraction.\n",
    "        gray_image = cv2.cvtColor(resized_image, cv2.COLOR_BGR2GRAY)\n",
    "        hist = cv2.calcHist([gray_image], [0], None, [256], [0, 256])\n",
    "        # Normalize the histogram\n",
    "        hist /= hist.sum()\n",
    "        # Compute GLCM-like features\n",
    "        mean = (hist * np.arange(256)).sum()\n",
    "        variance = (hist * ((np.arange(256) - mean) ** 2)).sum()\n",
    "        homogeneity = (hist / (1 + np.abs(np.arange(256) - np.arange(256)[:, None]))).sum()\n",
    "        contrast = (hist * (np.abs(np.arange(256) - np.arange(256)[:, None]) ** 2)).sum()\n",
    "        X_train.append([mean, variance, homogeneity, contrast])\n",
    "        # Append extracted features to X_train or X_val based on the loop iteration\n",
    "        # normalization\n",
    "    X_train = scaler.fit_transform(X_train)\n",
    "    joblib.dump(scaler, 'scaler.pkl')\n",
    "        # Apply preprocessing steps (resizing, normalization, etc.) to the image\n",
    "        # Append preprocessed image to X_train\n",
    "        \n",
    "        # Load and preprocess validation images\n",
    "    X_val = []\n",
    "    for path in tqdm(X_val_paths, desc=\"Validation Images\"):\n",
    "        image = cv2.imread(path) \n",
    "        resized_image = cv2.resize(image, (118, 118))\n",
    "        gray_image = cv2.cvtColor(resized_image, cv2.COLOR_BGR2GRAY)\n",
    "        # Extract HOG features\n",
    "        #fd = hog(gray_image, orientations=9, pixels_per_cell=(8, 8), cells_per_block=(2, 2))\n",
    "        hist = cv2.calcHist([gray_image], [0], None, [256], [0, 256])\n",
    "\n",
    "    # Normalize the histogram\n",
    "        hist /= hist.sum()\n",
    "\n",
    "    # Compute GLCM-like features\n",
    "        mean = (hist * np.arange(256)).sum()\n",
    "        variance = (hist * ((np.arange(256) - mean) ** 2)).sum()\n",
    "        homogeneity = (hist / (1 + np.abs(np.arange(256) - np.arange(256)[:, None]))).sum()\n",
    "        contrast = (hist * (np.abs(np.arange(256) - np.arange(256)[:, None]) ** 2)).sum()\n",
    "        X_val.append([mean, variance, homogeneity, contrast])\n",
    "        # Append extracted features to X_train or X_val based on the loop iteration\n",
    "        # normalization\n",
    "    X_val = scaler.transform(X_val)\n",
    "    \n",
    "    model = xgb.XGBClassifier(objective='binary:logistic', eval_metric='logloss')\n",
    "\n",
    "    # Train the model\n",
    "    model.fit(X_train, y_train)\n",
    "\n",
    "    # Make predictions on validation data\n",
    "    y_pred = model.predict(X_val)\n",
    "    \n",
    "    # Evaluate the model (using multiple metrics)\n",
    "    accuracy = accuracy_score(y_val, y_pred)\n",
    "    \n",
    "    # Print results for this fold\n",
    "    print(f\"Accuracy for this fold: {accuracy}\")\n",
    "    \n",
    "    # Store results in lists for later analysis\n",
    "    accuracies.append(accuracy)\n",
    "\n",
    "# After the loop, assess overall performance    \n",
    "print(\"Mean accuracy:\", np.mean(accuracies))\n",
    "    \n",
    "        "
   ]
  },
  {
   "cell_type": "code",
   "execution_count": 3,
   "id": "4630d8e8",
   "metadata": {},
   "outputs": [],
   "source": [
    "model.save_model('xgboost_model.json')"
   ]
  },
  {
   "cell_type": "code",
   "execution_count": 4,
   "id": "227ef46c",
   "metadata": {},
   "outputs": [
    {
     "name": "stdout",
     "output_type": "stream",
     "text": [
      "Image: C33P1thinF_IMG_20150619_121229a_cell_177.png, Prediction: 1, Probability: 0.7838847041130066\n"
     ]
    }
   ],
   "source": [
    "#For testing purpose only\n",
    "# Assuming model and scaler are already trained and defined\n",
    "\n",
    "# Load and preprocess a single X-ray image\n",
    "def preprocess_single_image(image_path, scaler):\n",
    "    # Load image\n",
    "    image = cv2.imread(image_path)\n",
    "    \n",
    "    # Preprocess image (resize, convert to grayscale, extract HOG features, etc.)\n",
    "    resized_image = cv2.resize(image, (118, 118))\n",
    "    gray_image = cv2.cvtColor(resized_image, cv2.COLOR_BGR2GRAY)\n",
    "    # Compute GLCM-like features\n",
    "    hist = cv2.calcHist([gray_image], [0], None, [256], [0, 256])\n",
    "    hist /= hist.sum()\n",
    "    mean = (hist * np.arange(256)).sum()\n",
    "    variance = (hist * ((np.arange(256) - mean) ** 2)).sum()\n",
    "    homogeneity = (hist / (1 + np.abs(np.arange(256) - np.arange(256)[:, None]))).sum()\n",
    "    contrast = (hist * (np.abs(np.arange(256) - np.arange(256)[:, None]) ** 2)).sum()\n",
    "\n",
    "    # Create feature vector\n",
    "    X_processed = np.array([mean, variance, homogeneity, contrast]).reshape(1, -1)\n",
    "    # Ensure the features are in the same format as used during training\n",
    "    X_processed = scaler.transform(X_processed)  # Assuming you have a trained scaler\n",
    "    \n",
    "    return X_processed\n",
    "\n",
    "# Path to the single X-ray image you want to test\n",
    "image_path_to_test = 'C33P1thinF_IMG_20150619_121229a_cell_177.png'\n",
    "# Preprocess the single image\n",
    "X_single_image = preprocess_single_image(image_path_to_test, scaler)\n",
    "\n",
    "# Make prediction\n",
    "y_pred_single_image = model.predict(X_single_image)\n",
    "\n",
    "# If you want probability scores for binary classification\n",
    "y_proba_single_image = model.predict_proba(X_single_image)[:, 1]\n",
    "\n",
    "# Display the prediction\n",
    "print(f\"Image: {image_path_to_test}, Prediction: {y_pred_single_image[0]}, Probability: {y_proba_single_image[0]}\")\n"
   ]
  },
  {
   "cell_type": "code",
   "execution_count": null,
   "id": "9d9848cf",
   "metadata": {},
   "outputs": [],
   "source": []
  }
 ],
 "metadata": {
  "kernelspec": {
   "display_name": "Python 3 (ipykernel)",
   "language": "python",
   "name": "python3"
  },
  "language_info": {
   "codemirror_mode": {
    "name": "ipython",
    "version": 3
   },
   "file_extension": ".py",
   "mimetype": "text/x-python",
   "name": "python",
   "nbconvert_exporter": "python",
   "pygments_lexer": "ipython3",
   "version": "3.11.4"
  }
 },
 "nbformat": 4,
 "nbformat_minor": 5
}
