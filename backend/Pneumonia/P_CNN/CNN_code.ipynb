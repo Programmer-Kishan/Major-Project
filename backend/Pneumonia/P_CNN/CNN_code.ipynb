{
 "cells": [
  {
   "cell_type": "code",
   "execution_count": 1,
   "id": "d0c09922",
   "metadata": {},
   "outputs": [
    {
     "name": "stdout",
     "output_type": "stream",
     "text": [
      "WARNING:tensorflow:From C:\\Users\\kisha\\AppData\\Roaming\\Python\\Python311\\site-packages\\keras\\src\\losses.py:2976: The name tf.losses.sparse_softmax_cross_entropy is deprecated. Please use tf.compat.v1.losses.sparse_softmax_cross_entropy instead.\n",
      "\n"
     ]
    }
   ],
   "source": [
    "import tensorflow as tf\n",
    "from tensorflow.keras.preprocessing.image import ImageDataGenerator\n",
    "from tensorflow.keras.applications import ResNet50\n",
    "from tensorflow.keras.layers import Flatten, Dense, Dropout\n",
    "from tensorflow.keras.models import Model"
   ]
  },
  {
   "cell_type": "code",
   "execution_count": 2,
   "id": "8c12bd86",
   "metadata": {},
   "outputs": [
    {
     "name": "stdout",
     "output_type": "stream",
     "text": [
      "Found 5216 images belonging to 2 classes.\n"
     ]
    }
   ],
   "source": [
    "data_aug = ImageDataGenerator(\n",
    "    horizontal_flip=True,\n",
    "    vertical_flip=True,\n",
    "    rotation_range=20,\n",
    "    width_shift_range=0.1,\n",
    "    height_shift_range=0.1,\n",
    "    shear_range=0.1,\n",
    "    zoom_range=0.1,\n",
    "    fill_mode=\"nearest\"\n",
    ")\n",
    "train_dataset = data_aug.flow_from_directory(\n",
    "    \"Pneumonia//train/\",\n",
    "    #labels=\"inferred\", #labels for each image is already given as it's file name\n",
    "#     label_mode=\"binary\", #binary classification\n",
    "    batch_size=32,\n",
    "    target_size=(224, 224), #resize of images\n",
    "    class_mode=\"binary\"\n",
    ")"
   ]
  },
  {
   "cell_type": "code",
   "execution_count": 3,
   "id": "9fc0a6d0",
   "metadata": {},
   "outputs": [
    {
     "name": "stdout",
     "output_type": "stream",
     "text": [
      "Found 624 images belonging to 2 classes.\n"
     ]
    }
   ],
   "source": [
    "test_dataset = data_aug.flow_from_directory(\n",
    "    \"Pneumonia//test/\",\n",
    "#     labels=\"inferred\",\n",
    "#     label_mode=\"binary\",\n",
    "    batch_size=32,\n",
    "    target_size=(224, 224),\n",
    "    class_mode=\"binary\"\n",
    ")"
   ]
  },
  {
   "cell_type": "code",
   "execution_count": 4,
   "id": "fc5f88a9",
   "metadata": {},
   "outputs": [
    {
     "name": "stdout",
     "output_type": "stream",
     "text": [
      "Found 16 images belonging to 2 classes.\n"
     ]
    }
   ],
   "source": [
    "val_dataset = data_aug.flow_from_directory(\n",
    "    \"Pneumonia//val/\",\n",
    "#     labels=\"inferred\",\n",
    "#     label_mode=\"binary\",\n",
    "    batch_size=32,\n",
    "    target_size=(224, 224),\n",
    ")"
   ]
  },
  {
   "cell_type": "code",
   "execution_count": 5,
   "id": "d82d7925",
   "metadata": {},
   "outputs": [
    {
     "name": "stdout",
     "output_type": "stream",
     "text": [
      "WARNING:tensorflow:From C:\\Users\\kisha\\AppData\\Roaming\\Python\\Python311\\site-packages\\keras\\src\\backend.py:1398: The name tf.executing_eagerly_outside_functions is deprecated. Please use tf.compat.v1.executing_eagerly_outside_functions instead.\n",
      "\n",
      "WARNING:tensorflow:From C:\\Users\\kisha\\AppData\\Roaming\\Python\\Python311\\site-packages\\keras\\src\\layers\\normalization\\batch_normalization.py:979: The name tf.nn.fused_batch_norm is deprecated. Please use tf.compat.v1.nn.fused_batch_norm instead.\n",
      "\n"
     ]
    }
   ],
   "source": [
    "resnet_model = ResNet50(weights=\"imagenet\", include_top=False, input_shape=(224, 224, 3))"
   ]
  },
  {
   "cell_type": "code",
   "execution_count": 6,
   "id": "c996551c",
   "metadata": {},
   "outputs": [],
   "source": [
    "for layer in resnet_model.layers:\n",
    "  layer.trainable = False\n",
    "custom_head = tf.keras.Sequential([\n",
    "    tf.keras.layers.GlobalAveragePooling2D(),\n",
    "    tf.keras.layers.Dense(128, activation=\"relu\"),\n",
    "    tf.keras.layers.Dropout(0.5),\n",
    "    tf.keras.layers.Dense(1, activation=\"sigmoid\")\n",
    "])\n",
    "\n",
    "model = tf.keras.Sequential([resnet_model, custom_head])"
   ]
  },
  {
   "cell_type": "code",
   "execution_count": 7,
   "id": "ac9b6bcc",
   "metadata": {},
   "outputs": [
    {
     "name": "stdout",
     "output_type": "stream",
     "text": [
      "WARNING:tensorflow:From C:\\Users\\kisha\\AppData\\Roaming\\Python\\Python311\\site-packages\\keras\\src\\optimizers\\__init__.py:309: The name tf.train.Optimizer is deprecated. Please use tf.compat.v1.train.Optimizer instead.\n",
      "\n"
     ]
    }
   ],
   "source": [
    "model.compile(optimizer=\"adam\", loss=\"binary_crossentropy\", metrics=[\"accuracy\"])\n"
   ]
  },
  {
   "cell_type": "code",
   "execution_count": 8,
   "id": "246d64be",
   "metadata": {},
   "outputs": [
    {
     "name": "stdout",
     "output_type": "stream",
     "text": [
      "Epoch 1/10\n",
      "WARNING:tensorflow:From C:\\Users\\kisha\\AppData\\Roaming\\Python\\Python311\\site-packages\\keras\\src\\utils\\tf_utils.py:492: The name tf.ragged.RaggedTensorValue is deprecated. Please use tf.compat.v1.ragged.RaggedTensorValue instead.\n",
      "\n",
      "WARNING:tensorflow:From C:\\Users\\kisha\\AppData\\Roaming\\Python\\Python311\\site-packages\\keras\\src\\engine\\base_layer_utils.py:384: The name tf.executing_eagerly_outside_functions is deprecated. Please use tf.compat.v1.executing_eagerly_outside_functions instead.\n",
      "\n",
      "163/163 [==============================] - 673s 4s/step - loss: 0.2323 - accuracy: 0.9062\n",
      "Epoch 2/10\n",
      "163/163 [==============================] - 355s 2s/step - loss: 0.1792 - accuracy: 0.9294\n",
      "Epoch 3/10\n",
      "163/163 [==============================] - 351s 2s/step - loss: 0.1397 - accuracy: 0.9484\n",
      "Epoch 4/10\n",
      "163/163 [==============================] - 379s 2s/step - loss: 0.1266 - accuracy: 0.9528\n",
      "Epoch 5/10\n",
      "163/163 [==============================] - 374s 2s/step - loss: 0.1367 - accuracy: 0.9500\n",
      "Epoch 6/10\n",
      "163/163 [==============================] - 289s 2s/step - loss: 0.1214 - accuracy: 0.9534\n",
      "Epoch 7/10\n",
      "163/163 [==============================] - 300s 2s/step - loss: 0.1122 - accuracy: 0.9549\n",
      "Epoch 8/10\n",
      "163/163 [==============================] - 314s 2s/step - loss: 0.1087 - accuracy: 0.9594\n",
      "Epoch 9/10\n",
      "163/163 [==============================] - 315s 2s/step - loss: 0.0981 - accuracy: 0.9618\n",
      "Epoch 10/10\n",
      "163/163 [==============================] - 319s 2s/step - loss: 0.1109 - accuracy: 0.9584\n"
     ]
    },
    {
     "data": {
      "text/plain": [
       "<keras.src.callbacks.History at 0x21d35169290>"
      ]
     },
     "execution_count": 8,
     "metadata": {},
     "output_type": "execute_result"
    }
   ],
   "source": [
    "model.fit(train_dataset, epochs=10)"
   ]
  },
  {
   "cell_type": "code",
   "execution_count": 9,
   "id": "cb2d0843",
   "metadata": {},
   "outputs": [
    {
     "name": "stdout",
     "output_type": "stream",
     "text": [
      "20/20 [==============================] - 38s 2s/step - loss: 0.3562 - accuracy: 0.8590\n",
      "Test loss: 0.3562133312225342\n",
      "Test accuracy: 0.8589743375778198\n"
     ]
    }
   ],
   "source": [
    "test_loss, test_accuracy = model.evaluate(test_dataset)\n",
    "\n",
    "print('Test loss:', test_loss)\n",
    "print('Test accuracy:', test_accuracy)\n",
    "\n",
    "# Save the model\n",
    "model.save('CNN_pneumonia_model.keras')"
   ]
  },
  {
   "cell_type": "code",
   "execution_count": 10,
   "id": "dffe9bdc",
   "metadata": {},
   "outputs": [],
   "source": [
    "def predict_pneumonia_with_cnn(image_path):\n",
    "\n",
    "    # Load and preprocess the image\n",
    "    image = tf.keras.preprocessing.image.load_img(image_path, target_size=(224, 224))\n",
    "    image = tf.keras.preprocessing.image.img_to_array(image)\n",
    "    image = tf.expand_dims(image, axis=0)\n",
    "\n",
    "    # Predict the probability of tuberculosis\n",
    "    prediction = model.predict(image)\n",
    "\n",
    "    # Get the probability of tuberculosis\n",
    "    probability_of_pneumonia = prediction[0][0]\n",
    "    print(probability_of_pneumonia)\n",
    "    # Convert the probability to a binary output\n",
    "    if probability_of_pneumonia > 0.5:\n",
    "        output = 'Pneumonia'\n",
    "    else:\n",
    "        output = 'Normal'\n",
    "    return output\n"
   ]
  },
  {
   "cell_type": "code",
   "execution_count": 11,
   "id": "6e5da776",
   "metadata": {},
   "outputs": [
    {
     "name": "stdout",
     "output_type": "stream",
     "text": [
      "1/1 [==============================] - 1s 1s/step\n",
      "0.84424937\n",
      "Pneumonia\n"
     ]
    }
   ],
   "source": [
    "print(predict_pneumonia_with_cnn('unseen_P.jpeg'))"
   ]
  },
  {
   "cell_type": "code",
   "execution_count": null,
   "id": "7415ad36",
   "metadata": {},
   "outputs": [],
   "source": []
  }
 ],
 "metadata": {
  "kernelspec": {
   "display_name": "Python 3 (ipykernel)",
   "language": "python",
   "name": "python3"
  },
  "language_info": {
   "codemirror_mode": {
    "name": "ipython",
    "version": 3
   },
   "file_extension": ".py",
   "mimetype": "text/x-python",
   "name": "python",
   "nbconvert_exporter": "python",
   "pygments_lexer": "ipython3",
   "version": "3.11.4"
  }
 },
 "nbformat": 4,
 "nbformat_minor": 5
}
