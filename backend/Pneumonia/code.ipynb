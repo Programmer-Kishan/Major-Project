{
 "cells": [
  {
   "cell_type": "code",
   "execution_count": 1,
   "id": "5b56530f",
   "metadata": {},
   "outputs": [
    {
     "name": "stdout",
     "output_type": "stream",
     "text": [
      "WARNING:tensorflow:From C:\\Users\\kisha\\AppData\\Roaming\\Python\\Python311\\site-packages\\keras\\src\\losses.py:2976: The name tf.losses.sparse_softmax_cross_entropy is deprecated. Please use tf.compat.v1.losses.sparse_softmax_cross_entropy instead.\n",
      "\n",
      "d:\\KISHAN\\PROGRAMS\\WEB DEVELPOMENT\\Major-project\\backend\\Pneumonia\n",
      "working directory for CNN:  d:\\KISHAN\\PROGRAMS\\WEB DEVELPOMENT\\Major-project\\backend\\Pneumonia\n",
      "WARNING:tensorflow:From C:\\Users\\kisha\\AppData\\Roaming\\Python\\Python311\\site-packages\\keras\\src\\backend.py:1398: The name tf.executing_eagerly_outside_functions is deprecated. Please use tf.compat.v1.executing_eagerly_outside_functions instead.\n",
      "\n",
      "WARNING:tensorflow:From C:\\Users\\kisha\\AppData\\Roaming\\Python\\Python311\\site-packages\\keras\\src\\layers\\pooling\\max_pooling2d.py:161: The name tf.nn.max_pool is deprecated. Please use tf.nn.max_pool2d instead.\n",
      "\n",
      "WARNING:tensorflow:From C:\\Users\\kisha\\AppData\\Roaming\\Python\\Python311\\site-packages\\keras\\src\\optimizers\\__init__.py:309: The name tf.train.Optimizer is deprecated. Please use tf.compat.v1.train.Optimizer instead.\n",
      "\n",
      "1/1 [==============================] - 1s 1s/step\n",
      "0.84424937\n"
     ]
    }
   ],
   "source": [
    "import os\n",
    "from P_CNN.prediction import predict_pneumonia_with_cnn\n",
    "print(os.getcwd())\n",
    "image_path = 'unseen_P.jpeg'\n",
    "result1 = predict_pneumonia_with_cnn(image_path)\n",
    "print(result1)"
   ]
  },
  {
   "cell_type": "code",
   "execution_count": 2,
   "id": "ee56abc8",
   "metadata": {},
   "outputs": [
    {
     "name": "stdout",
     "output_type": "stream",
     "text": [
      "[0.95]\n"
     ]
    }
   ],
   "source": [
    "from RF_P.rf_prediction import single_image\n",
    "result2 = single_image(image_path)\n",
    "print(result2)"
   ]
  },
  {
   "cell_type": "code",
   "execution_count": 3,
   "id": "a3d8b0d0",
   "metadata": {},
   "outputs": [
    {
     "name": "stdout",
     "output_type": "stream",
     "text": [
      "[0.992025]\n"
     ]
    }
   ],
   "source": [
    "from XG_P.XG_prediction import predict_single_image\n",
    "result3 = predict_single_image(image_path)\n",
    "print(result3)"
   ]
  },
  {
   "cell_type": "code",
   "execution_count": 4,
   "id": "7cbe0ea4",
   "metadata": {},
   "outputs": [
    {
     "name": "stdout",
     "output_type": "stream",
     "text": [
      "[92.87581285]\n"
     ]
    }
   ],
   "source": [
    "Predicted_Percentage = (result1+result2+result3)*100/3\n",
    "print(Predicted_Percentage)"
   ]
  },
  {
   "cell_type": "code",
   "execution_count": null,
   "id": "608374ca",
   "metadata": {},
   "outputs": [],
   "source": []
  }
 ],
 "metadata": {
  "kernelspec": {
   "display_name": "Python 3 (ipykernel)",
   "language": "python",
   "name": "python3"
  },
  "language_info": {
   "codemirror_mode": {
    "name": "ipython",
    "version": 3
   },
   "file_extension": ".py",
   "mimetype": "text/x-python",
   "name": "python",
   "nbconvert_exporter": "python",
   "pygments_lexer": "ipython3",
   "version": "3.11.4"
  }
 },
 "nbformat": 4,
 "nbformat_minor": 5
}
